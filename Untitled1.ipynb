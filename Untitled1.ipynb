{
  "nbformat": 4,
  "nbformat_minor": 0,
  "metadata": {
    "colab": {
      "name": "Untitled1.ipynb",
      "version": "0.3.2",
      "provenance": [],
      "collapsed_sections": [],
      "include_colab_link": true
    },
    "kernelspec": {
      "name": "python3",
      "display_name": "Python 3"
    },
    "accelerator": "GPU"
  },
  "cells": [
    {
      "cell_type": "markdown",
      "metadata": {
        "id": "view-in-github",
        "colab_type": "text"
      },
      "source": [
        "<a href=\"https://colab.research.google.com/github/Bce-OK/gentoo_settings/blob/master/Untitled1.ipynb\" target=\"_parent\"><img src=\"https://colab.research.google.com/assets/colab-badge.svg\" alt=\"Open In Colab\"/></a>"
      ]
    },
    {
      "cell_type": "code",
      "metadata": {
        "id": "vsKkwfnewf44",
        "colab_type": "code",
        "colab": {}
      },
      "source": [
        "from google.colab import drive\n",
        "drive.mount('/gdrive')"
      ],
      "execution_count": 0,
      "outputs": []
    },
    {
      "cell_type": "code",
      "metadata": {
        "id": "CRlAENJvwf2d",
        "colab_type": "code",
        "colab": {}
      },
      "source": [
        "!cp '/gdrive/My Drive/face_recognition_backbone_ir50_ms1m_epoch120.pth' /content/"
      ],
      "execution_count": 0,
      "outputs": []
    },
    {
      "cell_type": "code",
      "metadata": {
        "id": "FO9S0mdZZPHT",
        "colab_type": "code",
        "colab": {}
      },
      "source": [
        "#!unzip it.zip\n",
        "# !unzip data.zip\n",
        "!mkdir data/finded data/underfinded"
      ],
      "execution_count": 0,
      "outputs": []
    },
    {
      "cell_type": "code",
      "metadata": {
        "id": "Rs3rrCMpwceS",
        "colab_type": "code",
        "colab": {}
      },
      "source": [
        "!mv face_recognition_backbone_ir50_ms1m_epoch120.pth face_recognition/weights/"
      ],
      "execution_count": 0,
      "outputs": []
    },
    {
      "cell_type": "code",
      "metadata": {
        "id": "dAD7e8xAw7Ta",
        "colab_type": "code",
        "outputId": "df2815f3-11ca-4c1d-efe6-fdc4210c0b46",
        "colab": {
          "base_uri": "https://localhost:8080/",
          "height": 34
        }
      },
      "source": [
        "!pwd"
      ],
      "execution_count": 0,
      "outputs": [
        {
          "output_type": "stream",
          "text": [
            "/content\n"
          ],
          "name": "stdout"
        }
      ]
    },
    {
      "cell_type": "code",
      "metadata": {
        "id": "SDLGMS3FjmuL",
        "colab_type": "code",
        "outputId": "b7d96cc4-b74b-449a-86de-192ece7d45c0",
        "colab": {
          "base_uri": "https://localhost:8080/",
          "height": 292
        }
      },
      "source": [
        "!pip install pytelegrambotapi"
      ],
      "execution_count": 0,
      "outputs": [
        {
          "output_type": "stream",
          "text": [
            "Collecting pytelegrambotapi\n",
            "\u001b[?25l  Downloading https://files.pythonhosted.org/packages/25/5e/9711642455c4e17b1202d4f6403ede0fef37fc145038aee7193f3b24445e/pyTelegramBotAPI-3.6.6.tar.gz (49kB)\n",
            "\u001b[K     |████████████████████████████████| 51kB 2.5MB/s \n",
            "\u001b[?25hRequirement already satisfied: requests in /usr/local/lib/python3.6/dist-packages (from pytelegrambotapi) (2.21.0)\n",
            "Requirement already satisfied: six in /usr/local/lib/python3.6/dist-packages (from pytelegrambotapi) (1.12.0)\n",
            "Requirement already satisfied: certifi>=2017.4.17 in /usr/local/lib/python3.6/dist-packages (from requests->pytelegrambotapi) (2019.3.9)\n",
            "Requirement already satisfied: urllib3<1.25,>=1.21.1 in /usr/local/lib/python3.6/dist-packages (from requests->pytelegrambotapi) (1.24.3)\n",
            "Requirement already satisfied: chardet<3.1.0,>=3.0.2 in /usr/local/lib/python3.6/dist-packages (from requests->pytelegrambotapi) (3.0.4)\n",
            "Requirement already satisfied: idna<2.9,>=2.5 in /usr/local/lib/python3.6/dist-packages (from requests->pytelegrambotapi) (2.8)\n",
            "Building wheels for collected packages: pytelegrambotapi\n",
            "  Building wheel for pytelegrambotapi (setup.py) ... \u001b[?25l\u001b[?25hdone\n",
            "  Stored in directory: /root/.cache/pip/wheels/ae/69/d7/26f1fb04ac4d4c95bff643cea765a8e91c4348da25b4744e08\n",
            "Successfully built pytelegrambotapi\n",
            "Installing collected packages: pytelegrambotapi\n",
            "Successfully installed pytelegrambotapi-3.6.6\n"
          ],
          "name": "stdout"
        }
      ]
    },
    {
      "cell_type": "code",
      "metadata": {
        "id": "dwE8id0hPbVe",
        "colab_type": "code",
        "colab": {}
      },
      "source": [
        "import os\n"
      ],
      "execution_count": 0,
      "outputs": []
    },
    {
      "cell_type": "code",
      "metadata": {
        "id": "PvMNGXZ1uAam",
        "colab_type": "code",
        "colab": {}
      },
      "source": [
        "import cv2\n",
        "from PIL import Image\n",
        "import requests\n",
        "from io import BytesIO\n",
        "import telebot\n",
        "# import face_recognition\n",
        "\n",
        "from google.colab.patches import cv2_imshow\n",
        "# https://neurohive.io/ru/tutorial/cnn-na-pytorch/\n",
        "# https://neurohive.io/ru/tutorial/raspoznavanie-lica-facenet/\n",
        "# https://github.com/AlexanderParkin/introduction_to_face_recognition\n",
        "# https://www.arunponnusamy.com/cnn-face-detector-dlib.html"
      ],
      "execution_count": 0,
      "outputs": []
    },
    {
      "cell_type": "code",
      "metadata": {
        "id": "OWRI_UHK_eCt",
        "colab_type": "code",
        "colab": {}
      },
      "source": [
        "import sys\n",
        "\n",
        "import numpy as np\n",
        "from PIL import Image\n",
        "\n",
        "\n",
        "sys.path.insert(0, 'face_detection/mtcnn/')\n",
        "from src.detector_class import Detector\n",
        "from arcface_warping import preprocess as warping\n",
        "\n",
        "sys.path.insert(0, './face_recognition')\n",
        "from face_recognition import FaceRecognizer"
      ],
      "execution_count": 0,
      "outputs": []
    },
    {
      "cell_type": "code",
      "metadata": {
        "id": "yH1F8p2bM-tR",
        "colab_type": "code",
        "colab": {}
      },
      "source": [
        "def analize_img(path_to_img):\n",
        "  img = Image.open(path_to_img)\n",
        "  face_detector = Detector(weights_prefix_path='face_detection/mtcnn/')\n",
        "  face_recognizer = FaceRecognizer(weights='face_recognition/weights/face_recognition_backbone_ir50_ms1m_epoch120.pth')\n",
        "\n",
        "# Detection of all faces in the image. \n",
        "# For large images use pre-resize (for example, to 640px for the larger dimension).\n",
        "  bboxes, landmarks = face_detector.detect_faces(img)\n",
        "\n",
        "  descriptors = []\n",
        "  for idx, (bbox, landmarks5) in enumerate(zip(bboxes, landmarks)):\n",
        "  #Face alignment by 5 landmark points\n",
        "    warped_img = warping(np.array(img), landmarks5.reshape((2,5)).T)\n",
        "  #Convert from numpy array to PIL Image\n",
        "    warped_img = Image.fromarray(warped_img)\n",
        "    warped_img.save(f'data/underfinded/face_{idx}.jpg')\n",
        "    descriptor = face_recognizer.get_descriptor(warped_img)\n",
        "    descriptors.append(descriptor)\n",
        "\n",
        "  return descriptors"
      ],
      "execution_count": 0,
      "outputs": []
    },
    {
      "cell_type": "code",
      "metadata": {
        "id": "cLNDv8OiSWjY",
        "colab_type": "code",
        "colab": {}
      },
      "source": [
        "def get_known_images(path_dir = 'data/finded/'):\n",
        "  known_imgs = {}\n",
        "  face_detector = Detector(weights_prefix_path='face_detection/mtcnn/')\n",
        "  face_recognizer = FaceRecognizer(weights='face_recognition/weights/face_recognition_backbone_ir50_ms1m_epoch120.pth')\n",
        "\n",
        "  for r, d, f in os.walk(path_dir):\n",
        "    for folder in d:\n",
        "      known_imgs[folder] = []\n",
        "      for rr, dd, ff in os.walk(os.path.join(r, folder)):\n",
        "        for file in ff:\n",
        "          img = Image.open(os.path.join(rr, file))\n",
        "          descriptor = face_recognizer.get_descriptor(img)\n",
        "          known_imgs[folder].append(descriptor)\n",
        "  return known_imgs"
      ],
      "execution_count": 0,
      "outputs": []
    },
    {
      "cell_type": "code",
      "metadata": {
        "id": "-swEec2zVGhz",
        "colab_type": "code",
        "colab": {}
      },
      "source": [
        "def get_unknown_images(path_dir = 'data/underfinded'):\n",
        "  imgs = {}\n",
        "  face_detector = Detector(weights_prefix_path='face_detection/mtcnn/')\n",
        "  face_recognizer = FaceRecognizer(weights='face_recognition/weights/face_recognition_backbone_ir50_ms1m_epoch120.pth')\n",
        "  \n",
        "  for r, d, f in os.walk(path_dir):\n",
        "    for file in f:\n",
        "      img = Image.open(os.path.join(r, file))\n",
        "      descr = face_recognizer.get_descriptor(img)\n",
        "      imgs[file] = descr\n",
        "  return imgs"
      ],
      "execution_count": 0,
      "outputs": []
    },
    {
      "cell_type": "code",
      "metadata": {
        "id": "BFKro8wgV8vc",
        "colab_type": "code",
        "colab": {}
      },
      "source": [
        ""
      ],
      "execution_count": 0,
      "outputs": []
    },
    {
      "cell_type": "markdown",
      "metadata": {
        "id": "9isRntkDVrks",
        "colab_type": "text"
      },
      "source": [
        ""
      ]
    },
    {
      "cell_type": "code",
      "metadata": {
        "id": "O7u9N6ix2f3J",
        "colab_type": "code",
        "colab": {}
      },
      "source": [
        "def find_known_name(descriptor, known_imgs_descriptors):\n",
        "  finded = ''\n",
        "  min_distance = 1.0\n",
        "  for name, d_list in known_imgs_descriptors.items():\n",
        "    for d in d_list:\n",
        "      distance = np.linalg.norm(d - descriptor)\n",
        "      if (min_distance > distance):\n",
        "        finded = name\n",
        "        min_distance = distance\n",
        "  return finded"
      ],
      "execution_count": 0,
      "outputs": []
    },
    {
      "cell_type": "code",
      "metadata": {
        "id": "H2p81AOtJEfl",
        "colab_type": "code",
        "colab": {}
      },
      "source": [
        "def set_as_known(img_path, findname):\n",
        "  image = Image.open(img_path)\n",
        "  path_dir = 'data/finded/'\n",
        "  for r, d, f in os.walk(path_dir):\n",
        "    for folder in d:\n",
        "      if folder == findname:\n",
        "        count = 0\n",
        "        if os.path.isfile(path_dir + folder + '/0.jpg'):\n",
        "          for r, d, f in os.walk(os.path.join(r, folder)):\n",
        "            if file in f:\n",
        "              count += 1\n",
        "        image.save(path_dir + folder + f\"/{count}\" + '.jpg')\n",
        "        os.remove(img_path)\n",
        "        return (count)\n",
        "    if not os.path.isdir(path_dir + findname):\n",
        "      os.mkdir(path_dir + findname)\n",
        "    image.save(path_dir + findname + '/0.jpg')\n",
        "  \n",
        "  "
      ],
      "execution_count": 0,
      "outputs": []
    },
    {
      "cell_type": "code",
      "metadata": {
        "id": "ESh49nRinNnz",
        "colab_type": "code",
        "colab": {}
      },
      "source": [
        "def find_all_faces(descriptors, known_names):\n",
        "  ind = 0\n",
        "  faces = []\n",
        "  for photo_descr in descriptors:\n",
        "    finded = find_known_name(photo_descr, known_names)\n",
        "    faces.append(finded)\n",
        "  return faces"
      ],
      "execution_count": 0,
      "outputs": []
    },
    {
      "cell_type": "code",
      "metadata": {
        "id": "NinZkaa-qZ4W",
        "colab_type": "code",
        "colab": {}
      },
      "source": [
        "def get_facename_message( facename, ind, prefix = 'Ты ', postfix = \"!\"):\n",
        "  if facename != '':\n",
        "      return prefix + facename + postfix\n",
        "  else:\n",
        "    return None"
      ],
      "execution_count": 0,
      "outputs": []
    },
    {
      "cell_type": "code",
      "metadata": {
        "id": "0tNXNB7gjxIR",
        "colab_type": "code",
        "colab": {}
      },
      "source": [
        "token = '844482593:AAF1emYXk_RDWhfW-HO9SqEecazc1G9WMp8'\n",
        "bot = telebot.TeleBot(token)\n"
      ],
      "execution_count": 0,
      "outputs": []
    },
    {
      "cell_type": "code",
      "metadata": {
        "id": "Op78PnY2j5AR",
        "colab_type": "code",
        "colab": {}
      },
      "source": [
        "\n",
        "    \n",
        "@bot.message_handler(content_types=['photo'])\n",
        "def get_text_messages(message):\n",
        "  max_size = 0\n",
        "  for photo_iterator in message.photo:\n",
        "    if photo_iterator.file_size > max_size:\n",
        "      max_size = photo_iterator.file_size\n",
        "      photo = photo_iterator\n",
        "\n",
        "  file_info = bot.get_file(photo.file_id)\n",
        "  response = requests.get('https://api.telegram.org/file/bot{0}/{1}'.format(token, file_info.file_path))\n",
        "  img = Image.open(BytesIO(response.content))\n",
        "  img.save('test.jpg')\n",
        "  #print name if find\n",
        "  img_name = 'test.jpg'\n",
        "  known_names = get_known_images()\n",
        "  current_photo_descriptors = analize_img(img_name)\n",
        "  faces = []\n",
        "  if len(current_photo_descriptors) > 0:\n",
        "    faces = find_all_faces(current_photo_descriptors, known_names)\n",
        "    count = 0\n",
        "    for face in faces:\n",
        "      if face:\n",
        "        count += 1\n",
        "    print(faces)\n",
        "    if count == 1:\n",
        "      for face in faces:\n",
        "        if face:\n",
        "          get_facename_message(faces[0], 0)\n",
        "    else:\n",
        "      message_text = 'А на этом фото '\n",
        "      ind = 0      \n",
        "      for face in faces:\n",
        "        print (face)\n",
        "        test = get_facename_message(face, ind, ', и ')\n",
        "        if test:\n",
        "          message_text = message_text + test\n",
        "        else:\n",
        "          try:\n",
        "            img = open(f'data/underfinded/face_{ind}.jpg', 'rb')\n",
        "            bot.send_photo(message.chat.id, img.read(), caption='А ты кто?', reply_to_message_id=message.message_id)\n",
        "            img.close()\n",
        "          except Exception:\n",
        "            print(message)\n",
        "            print('img error!')\n",
        "            pass\n",
        "        ind += 1\n",
        "      bot.reply_to(message, message_text)\n",
        "  #else:\n",
        "#    print('не нашёл')\n",
        "\n"
      ],
      "execution_count": 0,
      "outputs": []
    },
    {
      "cell_type": "code",
      "metadata": {
        "id": "4QCMfCFUVB5I",
        "colab_type": "code",
        "colab": {}
      },
      "source": [
        "@bot.message_handler(content_types=['text'])\n",
        "def handle_text(message):   \n",
        "  if message.reply_to_message:\n",
        "    if message.reply_to_message.from_user.id == 844482593 and message.reply_to_message.caption == 'А ты кто?':\n",
        "      set_as_known('data/underfinded/face_0.jpg', message.text)\n",
        "      print(message)\n",
        "#  set_as_known(img_path, findname)\n",
        "#  im_cv = cv2.imread('test.jpg')\n",
        "#  face_locations = face_recognition.face_locations(im_cv)\n",
        "#  if len(face_locations) > 0:\n",
        "#    for top, right, bottom, left in face_locations:\n",
        "#      top = (int)(top* 0.8)\n",
        "#      left = (int)(left * 0.9)\n",
        "#      right = (int)(right * 1.1)\n",
        "#      bottom = (int)(bottom * 1.2)\n",
        "#      cropped = im_cv[top:bottom, left:right]\n",
        "#      im_str = cv2.imencode('.jpg', cropped)\n",
        "#      bot.send_photo(message.chat.id, im_str)\n",
        "#      cv2.rectangle(im_cv, (left, top), (right,bottom), (0, 0, 255), 2)\n",
        "#  im_str = cv2.imencode('.jpg', im_cv)\n",
        "#  bot.send_photo(message.chat.id, im_str)\n",
        "#  chat_id = message.chat.id"
      ],
      "execution_count": 0,
      "outputs": []
    },
    {
      "cell_type": "code",
      "metadata": {
        "id": "fjYbtloGoU1M",
        "colab_type": "code",
        "colab": {}
      },
      "source": [
        "#handler_start\n",
        "@bot.message_handler(commands=['start', 'go'])\n",
        "def start_handler(message):\n",
        "    chat_id = message.chat.id\n",
        "    msg = bot.send_message(chat_id, 'Bot started! Please upload the photo.')"
      ],
      "execution_count": 0,
      "outputs": []
    },
    {
      "cell_type": "code",
      "metadata": {
        "id": "SEQ8sjlLj5oq",
        "colab_type": "code",
        "outputId": "be5ecaf8-f794-4c64-d7a9-57efc4b92cf0",
        "colab": {
          "base_uri": "https://localhost:8080/",
          "height": 34
        }
      },
      "source": [
        "#bot.me()\n",
        "bot.polling(none_stop=False, timeout = 10, interval=10)"
      ],
      "execution_count": 0,
      "outputs": [
        {
          "output_type": "stream",
          "text": [
            "['Денис']\n"
          ],
          "name": "stdout"
        }
      ]
    },
    {
      "cell_type": "code",
      "metadata": {
        "id": "0hoIDqde_FCw",
        "colab_type": "code",
        "colab": {}
      },
      "source": [
        ""
      ],
      "execution_count": 0,
      "outputs": []
    },
    {
      "cell_type": "code",
      "metadata": {
        "id": "wkcD84AX_E5g",
        "colab_type": "code",
        "outputId": "378c61f0-b6b1-46ba-f880-6ffaa5e743f0",
        "colab": {
          "base_uri": "https://localhost:8080/",
          "height": 34
        }
      },
      "source": [
        "img_name = 'test.jpg'\n",
        "known_names = get_known_images()\n",
        "current_photo_descriptors = analize_img(img_name)\n",
        "if len(current_photo_descriptors) > 0:\n",
        "  for photo_descr in current_photo_descriptors:\n",
        "    finded = find_known_name(photo_descr, known_names)\n",
        "    print(finded)\n",
        "else:\n",
        "  print('никого нет')"
      ],
      "execution_count": 0,
      "outputs": [
        {
          "output_type": "stream",
          "text": [
            "никого нет\n"
          ],
          "name": "stdout"
        }
      ]
    },
    {
      "cell_type": "code",
      "metadata": {
        "id": "_Sa682dJ_ExF",
        "colab_type": "code",
        "outputId": "625c1945-b0f4-4513-e864-b9b9d2cc2547",
        "colab": {
          "base_uri": "https://localhost:8080/",
          "height": 34
        }
      },
      "source": [
        "ind = 0\n",
        "img = open(f'data/underfinded/face_{ind}.jpg', 'rb')\n",
        "chat_id = 399162862\n",
        "message_id = 1346\n",
        "bot.send_photo(chat_id, img.read(), caption='А ты кто?', reply_to_message_id=message_id)\n",
        "print(img.read())\n",
        "img.close()"
      ],
      "execution_count": 0,
      "outputs": [
        {
          "output_type": "stream",
          "text": [
            "b''\n"
          ],
          "name": "stdout"
        }
      ]
    },
    {
      "cell_type": "code",
      "metadata": {
        "id": "scQ0KvhS_En9",
        "colab_type": "code",
        "colab": {}
      },
      "source": [
        "ms = 0\n",
        "fs= 1"
      ],
      "execution_count": 0,
      "outputs": []
    },
    {
      "cell_type": "code",
      "metadata": {
        "id": "D53PYRbv_EeG",
        "colab_type": "code",
        "colab": {}
      },
      "source": [
        "ms = fs if fs > ms else ms"
      ],
      "execution_count": 0,
      "outputs": []
    },
    {
      "cell_type": "code",
      "metadata": {
        "id": "2ZfsAWzT_EUj",
        "colab_type": "code",
        "colab": {}
      },
      "source": [
        ""
      ],
      "execution_count": 0,
      "outputs": []
    },
    {
      "cell_type": "markdown",
      "metadata": {
        "id": "1kp3vmV0db8a",
        "colab_type": "text"
      },
      "source": [
        "\n",
        "\n",
        "---\n",
        "\n"
      ]
    },
    {
      "cell_type": "markdown",
      "metadata": {
        "id": "c4xLjnbZKm_t",
        "colab_type": "text"
      },
      "source": [
        ""
      ]
    },
    {
      "cell_type": "code",
      "metadata": {
        "id": "aD217-RCJEnj",
        "colab_type": "code",
        "outputId": "70cfd067-41e1-4b16-bb22-95776876152c",
        "colab": {
          "base_uri": "https://localhost:8080/",
          "height": 34
        }
      },
      "source": [
        "img_name = 'photoAgADAgAD46oxG_dHIEtbkBEvbI2ZL0SCCA4ABGBlj_HE-JD2mTsAAgI.jpg'\n",
        "known_names = get_known_images()\n",
        "current_photo_descriptors = analize_img(img_name)\n",
        "for photo_descr in current_photo_descriptors:\n",
        "  finded = find_known_name(photo_descr, known_names)\n",
        "  print(finded)\n",
        "  "
      ],
      "execution_count": 0,
      "outputs": [
        {
          "output_type": "stream",
          "text": [
            "\n"
          ],
          "name": "stdout"
        }
      ]
    },
    {
      "cell_type": "code",
      "metadata": {
        "id": "JDCIwjT40JM9",
        "colab_type": "code",
        "colab": {}
      },
      "source": [
        ""
      ],
      "execution_count": 0,
      "outputs": []
    },
    {
      "cell_type": "code",
      "metadata": {
        "id": "pHAe3ItH0JI_",
        "colab_type": "code",
        "colab": {}
      },
      "source": [
        "path_to_img = 'test.jpg'\n",
        "img = Image.open(path_to_img)\n",
        "face_detector = Detector(weights_prefix_path='face_detection/mtcnn/')\n",
        "face_recognizer = FaceRecognizer(weights='face_recognition/weights/face_recognition_backbone_ir50_ms1m_epoch120.pth')\n",
        "\n",
        "# Detection of all faces in the image. \n",
        "# For large images use pre-resize (for example, to 640px for the larger dimension).\n",
        "bboxes, landmarks = face_detector.detect_faces(img)\n",
        "\n",
        "descriptors = []\n",
        "for idx, (bbox, landmarks5) in enumerate(zip(bboxes, landmarks)):\n",
        "#Face alignment by 5 landmark points\n",
        "  warped_img = warping(np.array(img), landmarks5.reshape((2,5)).T)\n",
        "#Convert from numpy array to PIL Image\n",
        "  warped_img = Image.fromarray(warped_img)\n",
        "  warped_img.save(f'data/underfinded/face_{idx}.jpg')\n",
        "  descriptor = face_recognizer.get_descriptor(warped_img)\n",
        "  descriptors.append(descriptor)"
      ],
      "execution_count": 0,
      "outputs": []
    },
    {
      "cell_type": "code",
      "metadata": {
        "id": "6lKvQyYT0I4h",
        "colab_type": "code",
        "outputId": "81863d57-c3a6-4260-f675-ab64a644ea00",
        "colab": {
          "base_uri": "https://localhost:8080/",
          "height": 34
        }
      },
      "source": [
        "find_known_name(descriptors[0], get_known_images())"
      ],
      "execution_count": 0,
      "outputs": [
        {
          "output_type": "execute_result",
          "data": {
            "text/plain": [
              "'Аля'"
            ]
          },
          "metadata": {
            "tags": []
          },
          "execution_count": 30
        }
      ]
    },
    {
      "cell_type": "code",
      "metadata": {
        "id": "w992q8je0I0m",
        "colab_type": "code",
        "colab": {}
      },
      "source": [
        ""
      ],
      "execution_count": 0,
      "outputs": []
    },
    {
      "cell_type": "code",
      "metadata": {
        "id": "R0U3p3VQ0Iwi",
        "colab_type": "code",
        "colab": {}
      },
      "source": [
        ""
      ],
      "execution_count": 0,
      "outputs": []
    },
    {
      "cell_type": "markdown",
      "metadata": {
        "id": "YpOAtCCoqypQ",
        "colab_type": "text"
      },
      "source": [
        "версия cuda"
      ]
    }
  ]
}